{
 "cells": [
  {
   "cell_type": "code",
   "execution_count": null,
   "metadata": {},
   "outputs": [],
   "source": [
    "import sys\n",
    "sys.setrecursionlimit(10000) # 재귀 리미트- 설정할 시 범위까지만 재귀 돈다\n",
    "\n",
    "def find(chk,rooms):\n",
    "    if chk not in rooms:\n",
    "        rooms[chk]=chk+1\n",
    "        return chk\n",
    "\n",
    "    empty=find(rooms[chk],rooms)\n",
    "    # 빈방이 나오기 전 방문했던 부모 노드 바꿔줌\n",
    "    rooms[chk]=empty+1\n",
    "    return empty\n",
    "\n",
    "def solution(k,room_number):\n",
    "    answer=[]\n",
    "    # 해당 value는 다음 빈 방 번호 값\n",
    "    rooms=dict()\n",
    "\n",
    "    for i in room_number:\n",
    "        chk_in=find(i,rooms)\n",
    "        answer.append(chk_in)\n",
    "\n",
    "    return answer"
   ]
  }
 ],
 "metadata": {
  "language_info": {
   "name": "python"
  },
  "orig_nbformat": 4
 },
 "nbformat": 4,
 "nbformat_minor": 2
}
