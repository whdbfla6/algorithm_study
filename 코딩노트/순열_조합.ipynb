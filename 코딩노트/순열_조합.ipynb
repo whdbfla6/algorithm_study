{
 "cells": [
  {
   "cell_type": "markdown",
   "metadata": {},
   "source": [
    "### 순열"
   ]
  },
  {
   "cell_type": "code",
   "execution_count": 1,
   "metadata": {},
   "outputs": [
    {
     "name": "stdout",
     "output_type": "stream",
     "text": [
      "(1, 2) (1, 3) (2, 1) (2, 3) (3, 1) (3, 2) "
     ]
    }
   ],
   "source": [
    "n = 3 ; r = 2\n",
    "check = [0]*(n+1)\n",
    "answer = [0] * r\n",
    "\n",
    "def DFS(L):\n",
    "    global n,r\n",
    "    if L == r:\n",
    "        print(tuple(answer),end=' ')\n",
    "        return\n",
    "    else:\n",
    "        for i in range(1,n+1):\n",
    "            if check[i] == 0:\n",
    "                answer[L] = i\n",
    "                check[i] = 1\n",
    "                DFS(L+1)\n",
    "                check[i] = 0 #i=2인 경우 다시 1을 읽어야하기 때문에 check[1]=0으로 복구\n",
    "DFS(0)"
   ]
  },
  {
   "cell_type": "code",
   "execution_count": 2,
   "metadata": {},
   "outputs": [
    {
     "data": {
      "text/plain": [
       "[(1, 2), (1, 3), (2, 1), (2, 3), (3, 1), (3, 2)]"
      ]
     },
     "execution_count": 2,
     "metadata": {},
     "output_type": "execute_result"
    }
   ],
   "source": [
    "from itertools import permutations\n",
    "\n",
    "list(permutations(range(1,4),2))"
   ]
  },
  {
   "cell_type": "markdown",
   "metadata": {},
   "source": [
    "### 조합"
   ]
  },
  {
   "cell_type": "code",
   "execution_count": 3,
   "metadata": {},
   "outputs": [
    {
     "name": "stdout",
     "output_type": "stream",
     "text": [
      "(1, 2) (1, 3) (1, 4) (2, 3) (2, 4) (3, 4) "
     ]
    }
   ],
   "source": [
    "n = 4 ; r = 2 \n",
    "answer = [0] * r\n",
    "\n",
    "\n",
    "def DFS(L,begin):\n",
    "    global n,r\n",
    "    if L == r:\n",
    "        print(tuple(answer),end=' ')\n",
    "        return\n",
    "    else:\n",
    "        # 본인보다 큰 숫자에 대해서 for문이 반복되기 때문에 check할 필요 없음\n",
    "        for i in range(begin,n+1):\n",
    "            answer[L] = i\n",
    "            DFS(L+1,i+1)\n",
    "DFS(0,1)"
   ]
  },
  {
   "cell_type": "code",
   "execution_count": 4,
   "metadata": {},
   "outputs": [
    {
     "data": {
      "text/plain": [
       "[(1, 2), (1, 3), (1, 4), (2, 3), (2, 4), (3, 4)]"
      ]
     },
     "execution_count": 4,
     "metadata": {},
     "output_type": "execute_result"
    }
   ],
   "source": [
    "from itertools import combinations\n",
    "\n",
    "list(combinations(range(1,5),2))"
   ]
  }
 ],
 "metadata": {
  "interpreter": {
   "hash": "aee8b7b246df8f9039afb4144a1f6fd8d2ca17a180786b69acc140d282b71a49"
  },
  "kernelspec": {
   "display_name": "Python 3.9.7 64-bit",
   "language": "python",
   "name": "python3"
  },
  "language_info": {
   "codemirror_mode": {
    "name": "ipython",
    "version": 3
   },
   "file_extension": ".py",
   "mimetype": "text/x-python",
   "name": "python",
   "nbconvert_exporter": "python",
   "pygments_lexer": "ipython3",
   "version": "3.9.7"
  },
  "orig_nbformat": 4
 },
 "nbformat": 4,
 "nbformat_minor": 2
}
