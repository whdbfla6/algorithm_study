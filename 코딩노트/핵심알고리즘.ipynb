{
 "cells": [
  {
   "cell_type": "markdown",
   "metadata": {},
   "source": [
    "## 재귀"
   ]
  },
  {
   "cell_type": "code",
   "execution_count": null,
   "metadata": {},
   "outputs": [],
   "source": [
    "import sys\n",
    "sys.setrecursionlimit(10000) # 재귀 허용깊이 임의로 지정\n",
    "\n",
    "def solution(k, room_number):\n",
    "    rooms = dict() # {방번호: 바로 다음 빈방 번호}\n",
    "    for num in room_number:\n",
    "        chk_in = find_emptyroom(num,rooms)\n",
    "    return list(rooms.keys())\n",
    "\n",
    "def find_emptyroom(chk, rooms): # 재귀함수\n",
    "    if chk not in rooms.keys(): # 빈 방이면\n",
    "        rooms[chk] = chk+1 # rooms에 새 노드 추가\n",
    "        return chk # 요청한 방\n",
    "    empty = find_emptyroom(rooms[chk], rooms) # 재귀함수 호출\n",
    "    rooms[chk] = empty+1 # (배정된 방+1)을 부모노드로 변경\n",
    "    return empty # 새로 찾은 빈 방"
   ]
  },
  {
   "cell_type": "markdown",
   "metadata": {},
   "source": [
    "## BFS\n",
    "\n",
    "- check로 방문 여부 표시해주기"
   ]
  },
  {
   "cell_type": "code",
   "execution_count": null,
   "metadata": {},
   "outputs": [],
   "source": [
    "dx = [0,-1,0,1] ; dy = [1,0,-1,0]\n",
    "def checkfunc(place,i,j,check):\n",
    "    for k in range(4):\n",
    "        newi = i + dx[k] ; newj = j + dy[k]\n",
    "        if newi>=0 and newi<5 and newj>=0  and newj <5:\n",
    "            if place[newi][newj] == 'P' and check[newi][newj] == True:\n",
    "                return False\n",
    "    else:\n",
    "        return True\n",
    "    \n",
    "def covid(place,check):\n",
    "    for i in range(5):\n",
    "        for j in range(5):\n",
    "            if place[i][j] == 'P':\n",
    "                check[i][j] = False\n",
    "                if checkfunc(place,i,j,check) == False: return 0\n",
    "                for k in range(4):\n",
    "                    newi = i + dx[k] ; newj = j + dy[k]\n",
    "                    if newi>=0 and newi<5 and newj>=0  and newj <5:\n",
    "                        if place[newi][newj] == 'O':\n",
    "                            if checkfunc(place,newi,newj,check) == False: \n",
    "                                return 0\n",
    "    return 1\n",
    "\n",
    "\n",
    "def solution(places):\n",
    "    answer = []\n",
    "    for place in places:\n",
    "        check = [[True]*5 for _ in range(5)]\n",
    "        answer.append(covid(place,check))\n",
    "    return answer"
   ]
  },
  {
   "cell_type": "markdown",
   "metadata": {},
   "source": [
    "## 연결고리 문제 -> 한번에 업데이트"
   ]
  },
  {
   "cell_type": "code",
   "execution_count": null,
   "metadata": {},
   "outputs": [],
   "source": [
    "from collections import deque\n",
    "\n",
    "nex = {}; prev = {}\n",
    "\n",
    "def solution(n, k, cmd):\n",
    "    \n",
    "    answer = ['O']*n\n",
    "    delete = deque([])\n",
    "    \n",
    "    prev = {i:i-1 for i in range(n)}\n",
    "    nex = {i:i+1 for i in range(n)}\n",
    "    nex[n-1] = -1\n",
    "    \n",
    "    for c in cmd:\n",
    "        c = c.split(' ')\n",
    "        if c[0] == 'D':\n",
    "            m = int(c[1])\n",
    "            for i in range(m):\n",
    "                k = nex[k]\n",
    "        elif c[0] == 'U':\n",
    "            m = int(c[1])\n",
    "            for i in range(m):\n",
    "                k = prev[k]\n",
    "        elif c[0] == 'C':\n",
    "            n1,n2 = prev[k],nex[k]\n",
    "            delete.append(k)\n",
    "            if n2 == -1:\n",
    "                k = n1\n",
    "                nex[n1] = -1\n",
    "            else:\n",
    "                nex[n1] = n2\n",
    "                prev[n2] = n1\n",
    "                k = n2\n",
    "        else:\n",
    "            node = delete.pop()\n",
    "            n1,n2 = prev[node],nex[node]\n",
    "            nex[n1] = node\n",
    "            if node != (n-1):\n",
    "                prev[n2] = node\n",
    "    \n",
    "    for i in delete:\n",
    "        answer[i] = 'X'\n",
    "        \n",
    "    answer = ''.join(answer)\n",
    "\n",
    "    return answer"
   ]
  },
  {
   "cell_type": "markdown",
   "metadata": {},
   "source": [
    "## 이진 검색"
   ]
  },
  {
   "cell_type": "code",
   "execution_count": null,
   "metadata": {},
   "outputs": [],
   "source": [
    "def solution(stones, k):\n",
    "    left = 1 ; right = max(stones)\n",
    "    \n",
    "    while left <= right:\n",
    "        mid = (left+right)//2\n",
    "        cnt = 0\n",
    "        for s in stones:\n",
    "            if s-mid <=0: \n",
    "                cnt += 1\n",
    "            else:\n",
    "                cnt = 0\n",
    "            if cnt >= k:\n",
    "                break\n",
    "        if cnt >= k : right = mid-1\n",
    "        else: left = mid + 1\n",
    "\n",
    "    return left"
   ]
  },
  {
   "cell_type": "code",
   "execution_count": null,
   "metadata": {},
   "outputs": [],
   "source": []
  }
 ],
 "metadata": {
  "language_info": {
   "name": "python"
  },
  "orig_nbformat": 4
 },
 "nbformat": 4,
 "nbformat_minor": 2
}
