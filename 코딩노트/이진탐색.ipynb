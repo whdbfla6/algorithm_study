{
 "cells": [
  {
   "cell_type": "code",
   "execution_count": null,
   "metadata": {},
   "outputs": [],
   "source": [
    "def solution(stones, k):\n",
    "    left = 1 ; right = max(stones)\n",
    "    \n",
    "    while left <= right:\n",
    "        mid = (left+right)//2\n",
    "        cnt = 0\n",
    "        for s in stones:\n",
    "            if s-mid <=0: \n",
    "                cnt += 1\n",
    "            else:\n",
    "                cnt = 0\n",
    "            if cnt >= k:\n",
    "                break\n",
    "        if cnt >= k : right = mid-1\n",
    "        else: left = mid + 1\n",
    "\n",
    "    return left"
   ]
  }
 ],
 "metadata": {
  "language_info": {
   "name": "python"
  },
  "orig_nbformat": 4
 },
 "nbformat": 4,
 "nbformat_minor": 2
}
