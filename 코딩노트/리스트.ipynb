{
 "cells": [
  {
   "cell_type": "markdown",
   "metadata": {},
   "source": [
    "**list를 여러 함수에서 사용할 때** \n",
    "\n",
    "global 변수로 생성해주고 `temp[x][y] = 1` 와 같은 형태로 내부 함수에서 값을 변경해 주어야 한다\n",
    "\n",
    "**임시로 값을 변경해주고 싶은 경우**\n",
    "```\n",
    "tmp = data.copy()\n",
    "```\n",
    "- data도 수시로 바뀌는 경우\n",
    "```\n",
    "tmp = [[0]*M for _ in range(N)] #동일한 크기의 배열 생성\n",
    "for i in range(N):\n",
    "    for j in range(M):\n",
    "        tmp[i][j] = data[i][j]\n",
    "```\n",
    "\n",
    "**함수 외부에서 정의한 list를 불러오거나 값을 바꿔주는 경우**\n",
    "\n",
    "일반 변수와 다르게 global을 정의하지 않아도 된다"
   ]
  },
  {
   "cell_type": "code",
   "execution_count": 1,
   "metadata": {},
   "outputs": [
    {
     "name": "stdout",
     "output_type": "stream",
     "text": [
      "[0, 2, 3]\n",
      "[0, 2, 3]\n"
     ]
    }
   ],
   "source": [
    "a = [1,2,3]\n",
    "b = a \n",
    "b[0] = 0\n",
    "print(a)\n",
    "print(b)"
   ]
  },
  {
   "cell_type": "code",
   "execution_count": 2,
   "metadata": {},
   "outputs": [
    {
     "name": "stdout",
     "output_type": "stream",
     "text": [
      "[1, 2, 3]\n",
      "[0, 2, 3]\n"
     ]
    }
   ],
   "source": [
    "a = [1,2,3]\n",
    "b = a.copy()\n",
    "b[0] = 0\n",
    "print(a)\n",
    "print(b)"
   ]
  },
  {
   "cell_type": "code",
   "execution_count": 3,
   "metadata": {},
   "outputs": [
    {
     "name": "stdout",
     "output_type": "stream",
     "text": [
      "[1, 2, 3]\n",
      "[1, 2, 3]\n"
     ]
    }
   ],
   "source": [
    "a = [1,2,3]\n",
    "b = [0 for _ in range(len(a))]\n",
    "for i in range(len(a)):\n",
    "    b[i] = a[i]\n",
    "print(a)\n",
    "print(b)"
   ]
  },
  {
   "cell_type": "markdown",
   "metadata": {},
   "source": []
  }
 ],
 "metadata": {
  "interpreter": {
   "hash": "aee8b7b246df8f9039afb4144a1f6fd8d2ca17a180786b69acc140d282b71a49"
  },
  "kernelspec": {
   "display_name": "Python 3.9.7 64-bit",
   "language": "python",
   "name": "python3"
  },
  "language_info": {
   "codemirror_mode": {
    "name": "ipython",
    "version": 3
   },
   "file_extension": ".py",
   "mimetype": "text/x-python",
   "name": "python",
   "nbconvert_exporter": "python",
   "pygments_lexer": "ipython3",
   "version": "3.9.7"
  },
  "orig_nbformat": 4
 },
 "nbformat": 4,
 "nbformat_minor": 2
}
